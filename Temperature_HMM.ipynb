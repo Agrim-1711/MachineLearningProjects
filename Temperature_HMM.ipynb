{
  "nbformat": 4,
  "nbformat_minor": 0,
  "metadata": {
    "colab": {
      "provenance": [],
      "toc_visible": true,
      "authorship_tag": "ABX9TyMkrcdh8vWjfeJmkq6m57/j",
      "include_colab_link": true
    },
    "kernelspec": {
      "name": "python3",
      "display_name": "Python 3"
    },
    "language_info": {
      "name": "python"
    }
  },
  "cells": [
    {
      "cell_type": "markdown",
      "metadata": {
        "id": "view-in-github",
        "colab_type": "text"
      },
      "source": [
        "<a href=\"https://colab.research.google.com/github/Agrim-1711/MachineLearningProjects/blob/main/Temperature_HMM.ipynb\" target=\"_parent\"><img src=\"https://colab.research.google.com/assets/colab-badge.svg\" alt=\"Open In Colab\"/></a>"
      ]
    },
    {
      "cell_type": "markdown",
      "source": [
        "# Introduction"
      ],
      "metadata": {
        "id": "waIYd3Q0wsOA"
      }
    },
    {
      "cell_type": "markdown",
      "source": [
        "I previously created a machine learning model using **linear regression** to predict Temperature based on a combination of other weather data.\n",
        "\n",
        "Now, I aim to implement concepts I learned in my university's Machine Learning and Real-world Data (MLRD) course to create a new machine learning model that instead uses a **Hidden Markov Model** (HMM).\n",
        "\n",
        "I will later compare these two models."
      ],
      "metadata": {
        "id": "vMZy637TZFFW"
      }
    },
    {
      "cell_type": "markdown",
      "source": [
        "# Plan"
      ],
      "metadata": {
        "id": "0ie8EI6zw3qu"
      }
    },
    {
      "cell_type": "markdown",
      "source": [
        "I am going to use the temperature and precipitation data from 2015 May in Camborne to train the model. Then input the precipitation data from June-October which will then output the predicted temperatures for that period.\n",
        "\n",
        "To do this, I will define the parameters of my hidden markov model\n",
        "\n",
        "*   Hidden states - Temperature (cold, mild or hot)\n",
        "*   Observations - Precipitation (none/little, light/moderate or heavy)\n",
        "*   Transition probabilities - Chances of going from one hidden state to the next\n",
        "*   Emission probabilities - Chances of going from a hidden state to an observation\n",
        "\n",
        "\n"
      ],
      "metadata": {
        "id": "VWtzqLqhqJuh"
      }
    },
    {
      "cell_type": "markdown",
      "source": [
        "# Installing/Importing libraries"
      ],
      "metadata": {
        "id": "r8gITRWQwyhR"
      }
    },
    {
      "cell_type": "code",
      "source": [
        "!pip install hmmlearn\n",
        "import numpy as np\n",
        "import pandas as pd\n",
        "from hmmlearn import hmm\n",
        "from matplotlib import pyplot as plt"
      ],
      "metadata": {
        "colab": {
          "base_uri": "https://localhost:8080/"
        },
        "id": "MvuXh6IFZz0r",
        "outputId": "86cb4eb7-a19d-47c5-c743-05ca45d213ce"
      },
      "execution_count": null,
      "outputs": [
        {
          "output_type": "stream",
          "name": "stdout",
          "text": [
            "Collecting hmmlearn\n",
            "  Downloading hmmlearn-0.3.2-cp310-cp310-manylinux_2_17_x86_64.manylinux2014_x86_64.whl.metadata (2.9 kB)\n",
            "Requirement already satisfied: numpy>=1.10 in /usr/local/lib/python3.10/dist-packages (from hmmlearn) (1.26.4)\n",
            "Requirement already satisfied: scikit-learn!=0.22.0,>=0.16 in /usr/local/lib/python3.10/dist-packages (from hmmlearn) (1.3.2)\n",
            "Requirement already satisfied: scipy>=0.19 in /usr/local/lib/python3.10/dist-packages (from hmmlearn) (1.13.1)\n",
            "Requirement already satisfied: joblib>=1.1.1 in /usr/local/lib/python3.10/dist-packages (from scikit-learn!=0.22.0,>=0.16->hmmlearn) (1.4.2)\n",
            "Requirement already satisfied: threadpoolctl>=2.0.0 in /usr/local/lib/python3.10/dist-packages (from scikit-learn!=0.22.0,>=0.16->hmmlearn) (3.5.0)\n",
            "Downloading hmmlearn-0.3.2-cp310-cp310-manylinux_2_17_x86_64.manylinux2014_x86_64.whl (161 kB)\n",
            "\u001b[2K   \u001b[90m━━━━━━━━━━━━━━━━━━━━━━━━━━━━━━━━━━━━━━━━\u001b[0m \u001b[32m161.1/161.1 kB\u001b[0m \u001b[31m3.2 MB/s\u001b[0m eta \u001b[36m0:00:00\u001b[0m\n",
            "\u001b[?25hInstalling collected packages: hmmlearn\n",
            "Successfully installed hmmlearn-0.3.2\n"
          ]
        }
      ]
    },
    {
      "cell_type": "markdown",
      "source": [
        "# Code for loading data from Excel file\n",
        "\n",
        "Training data is May 2015 Camborne"
      ],
      "metadata": {
        "id": "eLRrEbTNwgx7"
      }
    },
    {
      "cell_type": "code",
      "source": [
        "pd.options.display.max_rows = 5\n",
        "pd.options.display.float_format = \"{:.1f}\".format\n",
        "training_df = pd.read_excel('/content/sample_data/DataSet.xls',sheet_name=6,header=None,skiprows=6,usecols='A:O',nrows=31)"
      ],
      "metadata": {
        "id": "yW3HaxRywXpI"
      },
      "execution_count": null,
      "outputs": []
    },
    {
      "cell_type": "markdown",
      "source": [
        "# Training data cleanup\n",
        "\n",
        "Including replacing trace values with 0.025"
      ],
      "metadata": {
        "id": "kYfk_h5OxM_w"
      }
    },
    {
      "cell_type": "code",
      "source": [
        "training_df.columns = [\"Date\",\"Temperature\",\"Rainfall\",\"Sunshine\",\"Windspeed\",\"Windspeed_Beaufort\",\"Gust_kn\",\"Humidity\",\"Cloud\",\"Visibility\",\"Pressure\",\"Wind_Direction\",\"Cardinal_Direction\",\"Max_Gust\",\"Cardinal_Direction2\"]\n",
        "training_df[\"Rainfall\"] = training_df[\"Rainfall\"].replace(\"tr\", 0.025)\n",
        "training_df = training_df.replace(np.nan, 0)\n",
        "\n",
        "training_df[\"Visibility\"] /= 200\n",
        "training_df[\"Pressure\"] /= 100\n",
        "training_df[\"Humidity\"] /= 10\n",
        "\n",
        "print(training_df.head())"
      ],
      "metadata": {
        "colab": {
          "base_uri": "https://localhost:8080/"
        },
        "id": "eFtZZEAmxXM8",
        "outputId": "55429055-6c26-4320-e1ee-16fe9f47b886"
      },
      "execution_count": null,
      "outputs": [
        {
          "output_type": "stream",
          "name": "stdout",
          "text": [
            "        Date  Temperature  Rainfall  Sunshine  Windspeed Windspeed_Beaufort  \\\n",
            "0 2015-05-01          9.6       3.4       0.0         14           Moderate   \n",
            "1 2015-05-02         10.8      13.2       0.0         13           Moderate   \n",
            "2 2015-05-03         12.3       0.2       0.4         13           Moderate   \n",
            "3 2015-05-04          9.8      12.8       3.8          9              Light   \n",
            "4 2015-05-05         10.8       2.2       5.2         18              Fresh   \n",
            "\n",
            "   Gust_kn  Humidity  Cloud  Visibility  Pressure  Wind_Direction  \\\n",
            "0       33       9.5      8        10.0      10.1             110   \n",
            "1       37      10.0      8         2.5      10.0             150   \n",
            "2       29      10.0      8         3.0      10.0             240   \n",
            "3       23       9.9      6         5.0      10.0             140   \n",
            "4       43       9.9      6         5.5       9.9             240   \n",
            "\n",
            "  Cardinal_Direction  Max_Gust Cardinal_Direction2  \n",
            "0                ESE       110                 ESE  \n",
            "1                SSE       120                 ESE  \n",
            "2                WSW       210                 SSW  \n",
            "3                 SE       120                 ESE  \n",
            "4                WSW       220                  SW  \n"
          ]
        }
      ]
    },
    {
      "cell_type": "markdown",
      "source": [
        "# Prepare data for HMM\n",
        "\n",
        "Temperature values are the hidden states and Rainfall values are the observations.\n",
        "We need to convert these numerical values into the discrete categories:\n",
        "*   Temperature - cold(0), mild(1), warm/hot(2)\n",
        "*   Rainfall - none/little(0), light/moderate(1), heavy(2)\n",
        "\n",
        "\n",
        "\n"
      ],
      "metadata": {
        "id": "OjAjn0lkQYaj"
      }
    },
    {
      "cell_type": "code",
      "source": [
        "def categorise_temp(t):\n",
        "    if t <= 10:\n",
        "        return 0   # cold\n",
        "    elif 10 < t <= 20:\n",
        "        return 1   # mild\n",
        "    else:   # t > 20\n",
        "        return 2   # warm/hot\n",
        "\n",
        "training_df['Temp_State'] = training_df['Temperature'].apply(categorise_temp)\n",
        "\n",
        "def categorise_rainfall(r):\n",
        "    if r <= 0.1:\n",
        "        return 0   # none/little\n",
        "    elif 0.1 < r <= 4:\n",
        "        return 1   # light/moderate\n",
        "    else:   # r > 4\n",
        "        return 2   # heavy\n",
        "\n",
        "training_df['Rainfall_State'] = training_df['Rainfall'].apply(categorise_rainfall)"
      ],
      "metadata": {
        "id": "04xNy6ewYLGe"
      },
      "execution_count": null,
      "outputs": []
    },
    {
      "cell_type": "markdown",
      "source": [
        "# Define and train HMM"
      ],
      "metadata": {
        "id": "cceqVvdUa5ri"
      }
    },
    {
      "cell_type": "code",
      "source": [
        "# Observations (precipitation)\n",
        "X = np.array(training_df['Rainfall_State']).reshape(-1, 1)\n",
        "\n",
        "# Hidden states (temperature)\n",
        "y = np.array(training_df['Temp_State'])\n",
        "\n",
        "model = hmm.MultinomialHMM(n_components=3, n_iter=500, tol=1e-7)\n",
        "model.fit(X)"
      ],
      "metadata": {
        "colab": {
          "base_uri": "https://localhost:8080/",
          "height": 198
        },
        "id": "BVFAlOMMa77U",
        "outputId": "3ee0c7ef-8b36-4f90-d9f6-d015cd712799"
      },
      "execution_count": null,
      "outputs": [
        {
          "output_type": "stream",
          "name": "stderr",
          "text": [
            "WARNING:hmmlearn.hmm:MultinomialHMM has undergone major changes. The previous version was implementing a CategoricalHMM (a special case of MultinomialHMM). This new implementation follows the standard definition for a Multinomial distribution (e.g. as in https://en.wikipedia.org/wiki/Multinomial_distribution). See these issues for details:\n",
            "https://github.com/hmmlearn/hmmlearn/issues/335\n",
            "https://github.com/hmmlearn/hmmlearn/issues/340\n"
          ]
        },
        {
          "output_type": "execute_result",
          "data": {
            "text/plain": [
              "MultinomialHMM(n_components=3, n_iter=500,\n",
              "               n_trials=array([1, 2, 1, 2, 1, 0, 1, 2, 0, 1, 1, 0, 2, 0, 1, 0, 1, 1, 1, 0, 1, 1,\n",
              "       1, 0, 0, 0, 0, 0, 1, 2, 1]),\n",
              "               random_state=RandomState(MT19937) at 0x7EFEF2391E40, tol=1e-07)"
            ],
            "text/html": [
              "<style>#sk-container-id-24 {color: black;}#sk-container-id-24 pre{padding: 0;}#sk-container-id-24 div.sk-toggleable {background-color: white;}#sk-container-id-24 label.sk-toggleable__label {cursor: pointer;display: block;width: 100%;margin-bottom: 0;padding: 0.3em;box-sizing: border-box;text-align: center;}#sk-container-id-24 label.sk-toggleable__label-arrow:before {content: \"▸\";float: left;margin-right: 0.25em;color: #696969;}#sk-container-id-24 label.sk-toggleable__label-arrow:hover:before {color: black;}#sk-container-id-24 div.sk-estimator:hover label.sk-toggleable__label-arrow:before {color: black;}#sk-container-id-24 div.sk-toggleable__content {max-height: 0;max-width: 0;overflow: hidden;text-align: left;background-color: #f0f8ff;}#sk-container-id-24 div.sk-toggleable__content pre {margin: 0.2em;color: black;border-radius: 0.25em;background-color: #f0f8ff;}#sk-container-id-24 input.sk-toggleable__control:checked~div.sk-toggleable__content {max-height: 200px;max-width: 100%;overflow: auto;}#sk-container-id-24 input.sk-toggleable__control:checked~label.sk-toggleable__label-arrow:before {content: \"▾\";}#sk-container-id-24 div.sk-estimator input.sk-toggleable__control:checked~label.sk-toggleable__label {background-color: #d4ebff;}#sk-container-id-24 div.sk-label input.sk-toggleable__control:checked~label.sk-toggleable__label {background-color: #d4ebff;}#sk-container-id-24 input.sk-hidden--visually {border: 0;clip: rect(1px 1px 1px 1px);clip: rect(1px, 1px, 1px, 1px);height: 1px;margin: -1px;overflow: hidden;padding: 0;position: absolute;width: 1px;}#sk-container-id-24 div.sk-estimator {font-family: monospace;background-color: #f0f8ff;border: 1px dotted black;border-radius: 0.25em;box-sizing: border-box;margin-bottom: 0.5em;}#sk-container-id-24 div.sk-estimator:hover {background-color: #d4ebff;}#sk-container-id-24 div.sk-parallel-item::after {content: \"\";width: 100%;border-bottom: 1px solid gray;flex-grow: 1;}#sk-container-id-24 div.sk-label:hover label.sk-toggleable__label {background-color: #d4ebff;}#sk-container-id-24 div.sk-serial::before {content: \"\";position: absolute;border-left: 1px solid gray;box-sizing: border-box;top: 0;bottom: 0;left: 50%;z-index: 0;}#sk-container-id-24 div.sk-serial {display: flex;flex-direction: column;align-items: center;background-color: white;padding-right: 0.2em;padding-left: 0.2em;position: relative;}#sk-container-id-24 div.sk-item {position: relative;z-index: 1;}#sk-container-id-24 div.sk-parallel {display: flex;align-items: stretch;justify-content: center;background-color: white;position: relative;}#sk-container-id-24 div.sk-item::before, #sk-container-id-24 div.sk-parallel-item::before {content: \"\";position: absolute;border-left: 1px solid gray;box-sizing: border-box;top: 0;bottom: 0;left: 50%;z-index: -1;}#sk-container-id-24 div.sk-parallel-item {display: flex;flex-direction: column;z-index: 1;position: relative;background-color: white;}#sk-container-id-24 div.sk-parallel-item:first-child::after {align-self: flex-end;width: 50%;}#sk-container-id-24 div.sk-parallel-item:last-child::after {align-self: flex-start;width: 50%;}#sk-container-id-24 div.sk-parallel-item:only-child::after {width: 0;}#sk-container-id-24 div.sk-dashed-wrapped {border: 1px dashed gray;margin: 0 0.4em 0.5em 0.4em;box-sizing: border-box;padding-bottom: 0.4em;background-color: white;}#sk-container-id-24 div.sk-label label {font-family: monospace;font-weight: bold;display: inline-block;line-height: 1.2em;}#sk-container-id-24 div.sk-label-container {text-align: center;}#sk-container-id-24 div.sk-container {/* jupyter's `normalize.less` sets `[hidden] { display: none; }` but bootstrap.min.css set `[hidden] { display: none !important; }` so we also need the `!important` here to be able to override the default hidden behavior on the sphinx rendered scikit-learn.org. See: https://github.com/scikit-learn/scikit-learn/issues/21755 */display: inline-block !important;position: relative;}#sk-container-id-24 div.sk-text-repr-fallback {display: none;}</style><div id=\"sk-container-id-24\" class=\"sk-top-container\"><div class=\"sk-text-repr-fallback\"><pre>MultinomialHMM(n_components=3, n_iter=500,\n",
              "               n_trials=array([1, 2, 1, 2, 1, 0, 1, 2, 0, 1, 1, 0, 2, 0, 1, 0, 1, 1, 1, 0, 1, 1,\n",
              "       1, 0, 0, 0, 0, 0, 1, 2, 1]),\n",
              "               random_state=RandomState(MT19937) at 0x7EFEF2391E40, tol=1e-07)</pre><b>In a Jupyter environment, please rerun this cell to show the HTML representation or trust the notebook. <br />On GitHub, the HTML representation is unable to render, please try loading this page with nbviewer.org.</b></div><div class=\"sk-container\" hidden><div class=\"sk-item\"><div class=\"sk-estimator sk-toggleable\"><input class=\"sk-toggleable__control sk-hidden--visually\" id=\"sk-estimator-id-24\" type=\"checkbox\" checked><label for=\"sk-estimator-id-24\" class=\"sk-toggleable__label sk-toggleable__label-arrow\">MultinomialHMM</label><div class=\"sk-toggleable__content\"><pre>MultinomialHMM(n_components=3, n_iter=500,\n",
              "               n_trials=array([1, 2, 1, 2, 1, 0, 1, 2, 0, 1, 1, 0, 2, 0, 1, 0, 1, 1, 1, 0, 1, 1,\n",
              "       1, 0, 0, 0, 0, 0, 1, 2, 1]),\n",
              "               random_state=RandomState(MT19937) at 0x7EFEF2391E40, tol=1e-07)</pre></div></div></div></div></div>"
            ]
          },
          "metadata": {},
          "execution_count": 99
        }
      ]
    },
    {
      "cell_type": "markdown",
      "source": [
        "# Clean and prepare training data\n",
        "\n",
        "Data from June to October 2015 for Camborne"
      ],
      "metadata": {
        "id": "kghjgy2ynx32"
      }
    },
    {
      "cell_type": "code",
      "source": [
        "testing_df = pd.read_excel('/content/sample_data/DataSet.xls', sheet_name=6, header=None, skiprows=37, usecols='A:O', nrows=153)\n",
        "testing_df.columns = [\"Date\",\"Temperature\",\"Rainfall\",\"Sunshine\",\"Windspeed\",\"Windspeed_Beaufort\",\"Gust_kn\",\"Humidity\",\"Cloud\",\"Visibility\",\"Pressure\",\"Wind_Direction\",\"Cardinal_Direction\",\"Max_Gust\",\"Cardinal_Direction2\"]\n",
        "\n",
        "# Process and categorise rainfall data for prediction\n",
        "testing_df[\"Rainfall\"] = testing_df[\"Rainfall\"].replace(\"tr\", 0.025)\n",
        "testing_df = testing_df.replace(np.nan, 0)\n",
        "testing_df['Rainfall_State'] = testing_df['Rainfall'].apply(categorise_rainfall)"
      ],
      "metadata": {
        "id": "22mleeEKn7Nm"
      },
      "execution_count": null,
      "outputs": []
    },
    {
      "cell_type": "markdown",
      "source": [
        "# Predict temperatures based on rainfall data"
      ],
      "metadata": {
        "id": "fVQ8Q1ie4RSo"
      }
    },
    {
      "cell_type": "code",
      "source": [
        "# Predict temperatures based on rainfall states\n",
        "X_test = np.array(testing_df['Rainfall_State']).reshape(-1, 1)\n",
        "predicted_temperatures = model.predict(X_test)\n",
        "\n",
        "# Convert temperature states back to readable format\n",
        "def state_to_temperature(state):\n",
        "    if state == 0:\n",
        "        return 'Cold'\n",
        "    elif state == 1:\n",
        "        return 'Mild'\n",
        "    else:\n",
        "        return 'Hot'\n",
        "\n",
        "predicted_temp_labels = [state_to_temperature(state) for state in predicted_temperatures]\n",
        "\n",
        "# Add predicted temperatures to the dataframe\n",
        "testing_df['Predicted_Temperature'] = predicted_temp_labels\n",
        "\n",
        "print(testing_df[['Date', 'Rainfall', 'Predicted_Temperature']].head())"
      ],
      "metadata": {
        "colab": {
          "base_uri": "https://localhost:8080/"
        },
        "id": "8axRIr364UPT",
        "outputId": "7b1e6fc1-51f1-4311-d1ca-9e9a774ccc73"
      },
      "execution_count": null,
      "outputs": [
        {
          "output_type": "stream",
          "name": "stdout",
          "text": [
            "        Date  Rainfall Predicted_Temperature\n",
            "0 2015-06-01      19.0                  Cold\n",
            "1 2015-06-02       0.2                   Hot\n",
            "2 2015-06-03       0.0                  Mild\n",
            "3 2015-06-04       0.0                  Mild\n",
            "4 2015-06-05       0.0                  Mild\n"
          ]
        }
      ]
    },
    {
      "cell_type": "markdown",
      "source": [
        "# Comparing predictions to actual data"
      ],
      "metadata": {
        "id": "Ovs2yQe8LSAr"
      }
    },
    {
      "cell_type": "code",
      "source": [
        "# Map actual temperatures to readable format (assuming actual temperature states are available)\n",
        "testing_df['Actual_Temp_State'] = testing_df['Temperature'].apply(categorise_temp)\n",
        "\n",
        "# Plot the results: Actual vs Predicted\n",
        "plt.figure(figsize=(10, 6))\n",
        "\n",
        "# X-axis: Date\n",
        "dates = pd.to_datetime(testing_df['Date'])\n",
        "\n",
        "# Convert categorical temperature states to numeric for plotting\n",
        "temp_mapping = {'Cold': 0, 'Mild': 1, 'Hot': 2}\n",
        "predicted_numeric = [temp_mapping[temp] for temp in testing_df['Predicted_Temperature']]\n",
        "actual_numeric = [temp_mapping[state_to_temperature(state)] for state in testing_df['Actual_Temp_State']]\n",
        "\n",
        "# Plot actual temperatures\n",
        "plt.plot(dates, actual_numeric, label=\"Actual Temperature\", color='blue', marker='o')\n",
        "\n",
        "# Plot predicted temperatures\n",
        "plt.plot(dates, predicted_numeric, label=\"Predicted Temperature\", color='red', linestyle='--', marker='x')\n",
        "\n",
        "# Customize plot\n",
        "plt.title('Actual vs Predicted Temperatures')\n",
        "plt.xlabel('Date')\n",
        "plt.ylabel('Temperature (0: Cold, 1: Mild, 2: Hot)')\n",
        "plt.xticks(rotation=45)\n",
        "plt.legend()\n",
        "\n",
        "# Display the plot\n",
        "plt.tight_layout()\n",
        "plt.show()\n",
        "\n",
        "# Print first few rows for reference\n",
        "print(testing_df[['Date', 'Rainfall', 'Temperature', 'Predicted_Temperature']].head())\n"
      ],
      "metadata": {
        "colab": {
          "base_uri": "https://localhost:8080/",
          "height": 601
        },
        "id": "4jd66Ck_Lk4a",
        "outputId": "d3e6c422-6d49-4ebb-d179-b4da93d8876b"
      },
      "execution_count": null,
      "outputs": [
        {
          "output_type": "display_data",
          "data": {
            "text/plain": [
              "<Figure size 1000x600 with 1 Axes>"
            ],
            "image/png": "[encoded data removed]"
          },
          "metadata": {}
        },
        {
          "output_type": "stream",
          "name": "stdout",
          "text": [
            "        Date  Rainfall  Temperature Predicted_Temperature\n",
            "0 2015-06-01      19.0         10.7                  Cold\n",
            "1 2015-06-02       0.2         13.2                   Hot\n",
            "2 2015-06-03       0.0         12.2                  Mild\n",
            "3 2015-06-04       0.0         12.0                  Mild\n",
            "4 2015-06-05       0.0         12.1                  Mild\n"
          ]
        }
      ]
    },
    {
      "cell_type": "markdown",
      "source": [
        "# Evaluation"
      ],
      "metadata": {
        "id": "QRi96EeLQR4Z"
      }
    },
    {
      "cell_type": "markdown",
      "source": [
        "The results are promising and highly accurate for predicting temperature state.\n",
        "\n",
        "This is shown by the fact that the model recovers from the initial high rainfall on the first day in June to predict mild temperature for most of the rest of the days.\n",
        "\n",
        "The model does not get 'stuck' at an incorrect temperature state or constantly alternate between two states.\n",
        "\n",
        "However, we have used a high number of iterations and a low tolerance level so it is possible the model is 'overfitted' to this particular training data. To check this, let's run this model on data for Camborne from a different year."
      ],
      "metadata": {
        "id": "GwinR_gwQbi5"
      }
    },
    {
      "cell_type": "code",
      "source": [],
      "metadata": {
        "id": "iC9RdElbQT45"
      },
      "execution_count": null,
      "outputs": []
    }
  ]
}